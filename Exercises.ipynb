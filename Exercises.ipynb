{
 "cells": [
  {
   "cell_type": "markdown",
   "metadata": {},
   "source": [
    "# Quantile normalisation"
   ]
  },
  {
   "cell_type": "markdown",
   "metadata": {},
   "source": [
    "[Quantile Normalization](https://en.wikipedia.org/wiki/Quantile_normalization) is a method to align distributions. Implement it using NumPy axis-wise operations and fancy indexing.\n",
    "\n",
    "*Hint: look for documentation for `np.sort`, and `np.argsort`.*"
   ]
  },
  {
   "cell_type": "code",
   "execution_count": 1,
   "metadata": {
    "collapsed": false
   },
   "outputs": [],
   "source": [
    "from scipy.stats import rankdata\n",
    "\n",
    "def qnorm(x):\n",
    "    \"\"\"Quantile normalize an input matrix.\n",
    "    \n",
    "    Parameters\n",
    "    ----------\n",
    "    x : 2D array of float, shape (M, N)\n",
    "        The input data, with each column being a\n",
    "        distribution to normalize.\n",
    "        \n",
    "    Returns\n",
    "    -------\n",
    "    xn : 2D array of float, shape (M, N)\n",
    "        The normalized data.\n",
    "    \"\"\"\n",
    "    order = np.argsort(x, axis=0) # using axis argument\n",
    "    ranks = np.argsort(order, axis=0)\n",
    "    rank_values = np.sort(x, 0).mean(1)\n",
    "    return rank_values[ranks] # broadcasting / indexing"
   ]
  },
  {
   "cell_type": "code",
   "execution_count": 2,
   "metadata": {
    "collapsed": false
   },
   "outputs": [],
   "source": [
    "import numpy as np\n",
    "data = np.array([[5, 4, 3],\n",
    "                 [2, 1, 4],\n",
    "                 [3, 5, 6],\n",
    "                 [4, 2, 7]])"
   ]
  },
  {
   "cell_type": "code",
   "execution_count": 3,
   "metadata": {
    "collapsed": false
   },
   "outputs": [
    {
     "data": {
      "text/plain": [
       "array([[ 5.66666667,  4.66666667,  2.        ],\n",
       "       [ 2.        ,  2.        ,  3.        ],\n",
       "       [ 3.        ,  5.66666667,  4.66666667],\n",
       "       [ 4.66666667,  3.        ,  5.66666667]])"
      ]
     },
     "execution_count": 3,
     "metadata": {},
     "output_type": "execute_result"
    }
   ],
   "source": [
    "qnorm(data)"
   ]
  },
  {
   "cell_type": "code",
   "execution_count": 4,
   "metadata": {
    "collapsed": true
   },
   "outputs": [],
   "source": [
    "results = [[5.67, 4.67, 2.00],\n",
    "           [2.00, 2.00, 3.00],\n",
    "           [3.00, 5.67, 4.67],\n",
    "           [4.67, 3.00, 5.67]]"
   ]
  },
  {
   "cell_type": "code",
   "execution_count": 5,
   "metadata": {
    "collapsed": true
   },
   "outputs": [],
   "source": [
    "from numpy.testing import assert_array_almost_equal\n",
    "\n",
    "assert_array_almost_equal(qnorm(data), results, decimal=2)"
   ]
  },
  {
   "cell_type": "code",
   "execution_count": null,
   "metadata": {
    "collapsed": true
   },
   "outputs": [],
   "source": []
  },
  {
   "cell_type": "markdown",
   "metadata": {},
   "source": [
    "# Introduction"
   ]
  },
  {
   "cell_type": "markdown",
   "metadata": {},
   "source": [
    "Learning objectives:\n",
    "\n",
    "* Knows to construct an array with given or random values.\n",
    "* Knows how to determine the arguments and return values from built-in documentation.\n",
    "* Knows how to sort an array in numerical order and to determine the order of elements in sorted array.\n",
    "* Can explain the difference between element-wise and matrix product of two arrays.\n",
    "* Knows how to apply reduction functions (mean, min, max) along a given axis.\n",
    "* Can find a specialised numerical algorithm from the ones available in numpy."
   ]
  },
  {
   "cell_type": "markdown",
   "metadata": {},
   "source": [
    "* array construction: array, random, eye\n",
    "* array shape: shape, reshape\n",
    "* array methods: mean/min/max, sort, argsort\n",
    "* array operations: add/substract with arrays and scalars, element-wise multiplication, and matrix dot product\n",
    "* numerical methods: fft, linalg, dot"
   ]
  },
  {
   "cell_type": "markdown",
   "metadata": {},
   "source": [
    "## numpy functions"
   ]
  },
  {
   "cell_type": "markdown",
   "metadata": {},
   "source": [
    "1) Create a 5x5 square array with number 5 on diagonal and zeros otherwise. Consider using `np.eye` function (you can check the docstring)."
   ]
  },
  {
   "cell_type": "markdown",
   "metadata": {},
   "source": [
    "2) Generate a random sequence of 10 integers from 1 to 100 without repetition (you may want to use `np.random.rand` and `np.argsort`)."
   ]
  },
  {
   "cell_type": "code",
   "execution_count": 6,
   "metadata": {
    "collapsed": false
   },
   "outputs": [
    {
     "data": {
      "text/plain": [
       "array([96, 80, 20,  9, 81, 72, 93, 99, 77, 82])"
      ]
     },
     "execution_count": 6,
     "metadata": {},
     "output_type": "execute_result"
    }
   ],
   "source": [
    "np.random.rand(100).argsort()[:10]"
   ]
  },
  {
   "cell_type": "markdown",
   "metadata": {},
   "source": [
    "3) Solve the following system of linear equations using numpy. Test the solution.\n",
    "    \n",
    "$$2x_1 + 3x_2 = 3$$\n",
    "$$5x_1 - x_2 = 6$$"
   ]
  },
  {
   "cell_type": "code",
   "execution_count": 7,
   "metadata": {
    "collapsed": false
   },
   "outputs": [
    {
     "data": {
      "text/plain": [
       "array([ -1.11022302e-16,  -2.22044605e-16])"
      ]
     },
     "execution_count": 7,
     "metadata": {},
     "output_type": "execute_result"
    }
   ],
   "source": [
    "a = [[2,3], [5, -1]]\n",
    "b = [1, 2]\n",
    "x = np.linalg.solve(a, b)\n",
    "np.dot(a, x) - b"
   ]
  },
  {
   "cell_type": "markdown",
   "metadata": {},
   "source": [
    "## Axis-wide computation"
   ]
  },
  {
   "cell_type": "markdown",
   "metadata": {},
   "source": [
    "1) Create a 3x4 array of random values. Compute the sum over the columns."
   ]
  },
  {
   "cell_type": "markdown",
   "metadata": {
    "collapsed": true
   },
   "source": [
    "2) Generate a 10 x 3 array of random numbers. From each row, pick the number closest to 0.75. Make use of np.abs and np.argmax to find the column j which contains the closest element in each row."
   ]
  },
  {
   "cell_type": "code",
   "execution_count": 8,
   "metadata": {
    "collapsed": false
   },
   "outputs": [],
   "source": [
    "x = np.random.rand(10,3)\n",
    "i = np.abs(x - 0.75).argmax(1)"
   ]
  },
  {
   "cell_type": "markdown",
   "metadata": {},
   "source": [
    "# Broadcasting"
   ]
  },
  {
   "cell_type": "markdown",
   "metadata": {},
   "source": [
    "Learning objectives:\n",
    "\n",
    "* Knows how to add a scalar to all elements of an array.\n",
    "* Can predict the result of additions of matrices and row or column vectors.\n",
    "* Can explain why broadcasting is better than using for loops.\n",
    "* Understands the rules of broadcasting and can predict the shape of broadcasted arrays.\n",
    "* Knows how to control broadcasting using `np.newaxis` object."
   ]
  },
  {
   "cell_type": "markdown",
   "metadata": {},
   "source": [
    "1) Calculate Z-score for each row of a 10x100 matrix."
   ]
  },
  {
   "cell_type": "code",
   "execution_count": 9,
   "metadata": {
    "collapsed": false
   },
   "outputs": [],
   "source": [
    "X = np.random.rand(10, 100)\n",
    "zscore = (X - x.mean(1)[:, None])/np.std(x,1)[:, None]"
   ]
  },
  {
   "cell_type": "markdown",
   "metadata": {},
   "source": [
    "2) Below, produce the array containing the sum of every element in `x` with every element in `y`"
   ]
  },
  {
   "cell_type": "code",
   "execution_count": 10,
   "metadata": {
    "collapsed": true
   },
   "outputs": [],
   "source": [
    "x = np.random.rand(3, 5)\n",
    "y = np.random.randint(10, size=8)\n",
    "z = x # FIX THIS"
   ]
  },
  {
   "cell_type": "code",
   "execution_count": 11,
   "metadata": {
    "collapsed": false
   },
   "outputs": [],
   "source": [
    "z = x[:, :, None] + y[None]"
   ]
  },
  {
   "cell_type": "markdown",
   "metadata": {},
   "source": [
    "3) Given the arrays:\n",
    "    "
   ]
  },
  {
   "cell_type": "code",
   "execution_count": 12,
   "metadata": {
    "collapsed": false
   },
   "outputs": [],
   "source": [
    "X = np.random.rand(10,3)\n",
    "Y = np.random.rand(3)"
   ]
  },
  {
   "cell_type": "markdown",
   "metadata": {},
   "source": [
    "which of the following will **not** produce an error:\n",
    "\n",
    "a) `X + Y`\n",
    "\n",
    "b) X[None, :] + Y\n",
    "\n",
    "c) X[np.newaxis, :] + Y\n",
    "\n",
    "d) X[None, :] + Y[:, None]\n",
    "\n",
    "e) X[:, np.newaxis] + Y\n",
    "\n",
    "f) `X + Y[np.newaxis, :]`\n",
    "\n",
    "What will be the shapes of the final broadcasted arrays? Try to guess and then check using `np.broadcast_arrays`."
   ]
  },
  {
   "cell_type": "code",
   "execution_count": 13,
   "metadata": {
    "collapsed": false
   },
   "outputs": [
    {
     "name": "stdout",
     "output_type": "stream",
     "text": [
      "(10, 3)\n"
     ]
    }
   ],
   "source": [
    "Xb, Yb = np.broadcast_arrays(X, Y)\n",
    "print(Yb.shape)"
   ]
  },
  {
   "cell_type": "markdown",
   "metadata": {},
   "source": [
    "4) What are the dimensionalities of `x`, `y` and `z` in the two cases:\n",
    "\n",
    "```\n",
    "x, y = np.mgrid[:10, :5]\n",
    "z = x + y\n",
    "```\n",
    "\n",
    "and \n",
    "\n",
    "```\n",
    "x, y = np.ogrid[:10, :5]\n",
    "z = x + y\n",
    "```\n",
    "\n",
    "What might be the advantage of using `np.ogrid` over `np.mgrid`?"
   ]
  },
  {
   "cell_type": "markdown",
   "metadata": {},
   "source": [
    "6) Calculate an outer product using broadcasting?"
   ]
  },
  {
   "cell_type": "markdown",
   "metadata": {},
   "source": [
    "# Indexing"
   ]
  },
  {
   "cell_type": "markdown",
   "metadata": {},
   "source": [
    "Learning objectives:\n",
    "\n",
    "* Can get the value of any element of a N-dimensional array knowing its row, column etc. indices.\n",
    "* Can use slices to get and modify ranges of elements.\n",
    "* Can explain the difference between a copy and a view. Knows which methods of indexing return a copy or view.\n",
    "* Knows how to select elements from an array based on some criteria applied to their values.\n",
    "* Can obtain a sub-array of non-contigeous of elements using fancy indexing.\n",
    "* Can combine axis-based reductions, broadcasting and indexing to implement simple clustering algorithms.\n",
    "* Understands what are the advantages of vectorisation and when to use or not use it."
   ]
  },
  {
   "cell_type": "markdown",
   "metadata": {},
   "source": [
    "## Simple indexing and slicing"
   ]
  },
  {
   "cell_type": "markdown",
   "metadata": {},
   "source": [
    "Let `x = np.array([1, 5, 10])`.\n",
    "\n",
    "Which of the following will show [1, 10]:\n",
    "\n",
    "a) `print(x[::2])`\n",
    "\n",
    "b) `print(x[[0, 2]])`\n",
    "\n",
    "c) `x[1, 3]`\n",
    "\n",
    "d) `x[[1, -1]]`"
   ]
  },
  {
   "cell_type": "markdown",
   "metadata": {},
   "source": [
    "3) Create a 3x4 array of\n",
    "random values (using `np.random.rand`), and call it ``x``.\n",
    "Create another array as follows: ``y = x[2]``.\n",
    "What happens when you modify ``y`` &mdash; does ``x`` also change? Now try `y = x[:2]` and modify it's first element. What happens now?"
   ]
  },
  {
   "cell_type": "markdown",
   "metadata": {
    "collapsed": true
   },
   "source": [
    "4) Create a 8x8 matrix and fill it with a checkerboard pattern"
   ]
  },
  {
   "cell_type": "markdown",
   "metadata": {},
   "source": [
    "## Boolean indexing"
   ]
  },
  {
   "cell_type": "markdown",
   "metadata": {},
   "source": [
    "1) Rectify an array with random numbers from normal distribution (generated with `np.random.randn`) using boolean indexing."
   ]
  },
  {
   "cell_type": "code",
   "execution_count": 14,
   "metadata": {
    "collapsed": false
   },
   "outputs": [],
   "source": [
    "x = np.random.randn(100)\n",
    "x[x<0] = 0"
   ]
  },
  {
   "cell_type": "markdown",
   "metadata": {},
   "source": [
    "2) Select odd elements from an integer array."
   ]
  },
  {
   "cell_type": "markdown",
   "metadata": {},
   "source": [
    "## Fancy indexing"
   ]
  },
  {
   "cell_type": "markdown",
   "metadata": {},
   "source": [
    "1) Select randomly with repetition 10 elements from an array of 100 elements."
   ]
  },
  {
   "cell_type": "code",
   "execution_count": 15,
   "metadata": {
    "collapsed": false
   },
   "outputs": [
    {
     "data": {
      "text/plain": [
       "array([ 0.82324748,  0.25327442,  0.60165156,  0.43506678,  0.98990766,\n",
       "        0.00482431,  0.05298637,  0.61761686,  0.71093484,  0.52197775])"
      ]
     },
     "execution_count": 15,
     "metadata": {},
     "output_type": "execute_result"
    }
   ],
   "source": [
    "x = np.random.rand(100)\n",
    "i = np.random.randint(0, 100, 10)\n",
    "x[i]"
   ]
  },
  {
   "cell_type": "markdown",
   "metadata": {},
   "source": [
    "2) Implement K-means algorithm."
   ]
  },
  {
   "cell_type": "markdown",
   "metadata": {},
   "source": [
    "5) Predict and verify the shape of the following slicing operation.\n",
    "\n",
    "```python\n",
    "x = np.empty((10, 8, 6))\n",
    "\n",
    "idx0 = np.zeros((3, 8)).astype(int)\n",
    "idx1 = np.zeros((3, 1)).astype(int)\n",
    "idx2 = np.zeros((1, 1)).astype(int)\n",
    "\n",
    "x[idx0, idx1, idx2]\n",
    "```"
   ]
  },
  {
   "cell_type": "markdown",
   "metadata": {},
   "source": [
    "# Array container\n",
    "\n",
    "Learning objectives:\n",
    "\n",
    "* Can list some of the objects which can be contained in an array.\n",
    "* Understands the concept of `dtype` and can select `dtype` best for the data at hand.\n",
    "* Knows what is an object array and when it is created.\n",
    "* Can explain what are `ndim`, `shape` and `stride` properties of an array.\n",
    "* Understand the layout of an array in memory and knows how to use it for best array performance.\n",
    "* Can explain the difference between Fortran- and C-based order. Knows the default.\n",
    "\n",
    "## dtype"
   ]
  },
  {
   "cell_type": "markdown",
   "metadata": {},
   "source": [
    "1) Construct the array `x = np.array([0, 1, 2, 3], dtype=np.uint8)` (here, `uint8`\n",
    "represents a single byte in memory, an unsigned integer between 0 and 255). Can\n",
    "you explain the results obtained by x + 1 and x / 2? Also try `x.astype(float) + 1` and `x.astype(float) / 2`."
   ]
  },
  {
   "cell_type": "markdown",
   "metadata": {},
   "source": [
    "2) What is the dtype of the following arrays?\n"
   ]
  },
  {
   "cell_type": "code",
   "execution_count": 16,
   "metadata": {
    "collapsed": false
   },
   "outputs": [],
   "source": [
    "a = np.array([[1], \n",
    "              [2,3],\n",
    "              [4,5,6]])\n",
    "b = np.array(['a', 'b', 'c'])\n",
    "c = np.array([1, 2., 3.])\n",
    "d = np.array([np.dot, np.array])"
   ]
  },
  {
   "cell_type": "code",
   "execution_count": 17,
   "metadata": {
    "collapsed": false
   },
   "outputs": [
    {
     "data": {
      "text/plain": [
       "dtype('O')"
      ]
     },
     "execution_count": 17,
     "metadata": {},
     "output_type": "execute_result"
    }
   ],
   "source": [
    "d.dtype"
   ]
  },
  {
   "cell_type": "markdown",
   "metadata": {},
   "source": [
    "3) Imagine you have a list of names and scores, which you want to store in numpy array. Construct a dtype such that the following works. Look at documentation of `np.dtype`."
   ]
  },
  {
   "cell_type": "code",
   "execution_count": 18,
   "metadata": {
    "collapsed": false
   },
   "outputs": [
    {
     "data": {
      "text/plain": [
       "array([('Bartosz', 5), ('Nelle', 4)], \n",
       "      dtype=[('string', 'S40'), ('number', '<i8')])"
      ]
     },
     "execution_count": 18,
     "metadata": {},
     "output_type": "execute_result"
    }
   ],
   "source": [
    "np.array([('Bartosz', 5), ('Nelle', 4)], dtype=[('string', 'S40'), ('number', np.int)])"
   ]
  },
  {
   "cell_type": "markdown",
   "metadata": {},
   "source": [
    "## Memory layout"
   ]
  },
  {
   "cell_type": "markdown",
   "metadata": {},
   "source": [
    "- Create 3x4 random array. Have a look at its different properties: ``x.shape``, ``x.ndim``,\n",
    "``x.dtype``, ``x.strides``. What does each property tell you about the array?\n",
    "\n",
    "- Compare the strides property of x.T to the above. What is x.T and can you\n",
    "explain the new strides?"
   ]
  },
  {
   "cell_type": "markdown",
   "metadata": {},
   "source": [
    "- What is the maximum number of dimensions a NumPy array can have? Use one of the\n",
    "array constructors (np.zeros, np.empty, np.random.random, etc.) to find out.m"
   ]
  },
  {
   "cell_type": "markdown",
   "metadata": {},
   "source": [
    "3) Compare the time of summing over rows and columns. How would you explain the differences?"
   ]
  },
  {
   "cell_type": "code",
   "execution_count": 19,
   "metadata": {
    "collapsed": false
   },
   "outputs": [],
   "source": [
    "A = np.random.rand(10, 100000)"
   ]
  },
  {
   "cell_type": "code",
   "execution_count": 20,
   "metadata": {
    "collapsed": false
   },
   "outputs": [
    {
     "name": "stdout",
     "output_type": "stream",
     "text": [
      "1000 loops, best of 3: 890 µs per loop\n"
     ]
    }
   ],
   "source": [
    "%timeit A.sum(0)"
   ]
  },
  {
   "cell_type": "code",
   "execution_count": 21,
   "metadata": {
    "collapsed": true
   },
   "outputs": [],
   "source": [
    "A = np.random.rand(100000, 10)"
   ]
  },
  {
   "cell_type": "code",
   "execution_count": 22,
   "metadata": {
    "collapsed": false
   },
   "outputs": [
    {
     "name": "stdout",
     "output_type": "stream",
     "text": [
      "1000 loops, best of 3: 1.85 ms per loop\n"
     ]
    }
   ],
   "source": [
    "%timeit A.sum(1)"
   ]
  },
  {
   "cell_type": "markdown",
   "metadata": {},
   "source": [
    "1) Use `as_strided` to produce a sliding-window view of a 1D array."
   ]
  },
  {
   "cell_type": "code",
   "execution_count": 23,
   "metadata": {
    "collapsed": true
   },
   "outputs": [],
   "source": [
    "def sliding_window(arr, size=2):\n",
    "    \"\"\"Produce an array of sliding window views of `arr`\n",
    "    \n",
    "    Parameters\n",
    "    ----------\n",
    "    arr : 1D array, shape (N,)\n",
    "        The input array.\n",
    "    size : int, optional\n",
    "        The size of the sliding window.\n",
    "        \n",
    "    Returns\n",
    "    -------\n",
    "    arr_slide : 2D array, shape (N - size - 1, size)\n",
    "        The sliding windows of size `size` of `arr`.\n",
    "        \n",
    "    Examples\n",
    "    --------\n",
    "    >>> a = np.array([0, 1, 2, 3])\n",
    "    >>> sliding_window(a, 2)\n",
    "    array([[0, 1],\n",
    "           [1, 2],\n",
    "           [2, 3]])\n",
    "    \"\"\"\n",
    "    return arr  # fix this"
   ]
  },
  {
   "cell_type": "code",
   "execution_count": 24,
   "metadata": {
    "collapsed": false
   },
   "outputs": [
    {
     "data": {
      "text/plain": [
       "array([0, 1, 2, 3, 4, 5, 6, 7])"
      ]
     },
     "execution_count": 24,
     "metadata": {},
     "output_type": "execute_result"
    }
   ],
   "source": [
    "# test your code\n",
    "sliding_window(np.arange(8), 3)"
   ]
  },
  {
   "cell_type": "code",
   "execution_count": null,
   "metadata": {
    "collapsed": true
   },
   "outputs": [],
   "source": []
  },
  {
   "cell_type": "markdown",
   "metadata": {},
   "source": [
    "2) The `order` keyword of some `numpy` functions determines how two- or more dimensional arrays are laid out in the memory. If order is 'C', then the array will be in C-contiguous order (last-index varies the fastest). If order is 'F', then the returned array will be in Fortran-contiguous order (first-index varies the fastest). In what order will be the 2D array stored in memory? (*Hint*: You can use `np.ravel(x, order='A')` to test it)."
   ]
  },
  {
   "cell_type": "code",
   "execution_count": 25,
   "metadata": {
    "collapsed": false
   },
   "outputs": [
    {
     "name": "stdout",
     "output_type": "stream",
     "text": [
      "[[1 2 3]\n",
      " [4 5 6]]\n"
     ]
    },
    {
     "data": {
      "text/plain": [
       "array([1, 4, 2, 5, 3, 6])"
      ]
     },
     "execution_count": 25,
     "metadata": {},
     "output_type": "execute_result"
    }
   ],
   "source": [
    "x = np.array([[1, 2, 3], [4, 5, 6]], order='F')\n",
    "print(x)\n",
    "np.ravel(x, order='A')"
   ]
  },
  {
   "cell_type": "markdown",
   "metadata": {},
   "source": [
    "4) Explain how broadcasting works internally using the example below. What will be shapes and strides of `x` and `y` after broadcasting. Test it using `np.broadcast_arrays` in the following example and look at `strides` and `shape` properties of both arrays."
   ]
  },
  {
   "cell_type": "code",
   "execution_count": 26,
   "metadata": {
    "collapsed": false
   },
   "outputs": [],
   "source": [
    "x = np.random.rand(5,10)\n",
    "y = np.random.rand(10)\n",
    "z = x + y"
   ]
  },
  {
   "cell_type": "code",
   "execution_count": 27,
   "metadata": {
    "collapsed": true
   },
   "outputs": [],
   "source": [
    "xb, yb = np.broadcast_arrays(x,y)"
   ]
  },
  {
   "cell_type": "code",
   "execution_count": 28,
   "metadata": {
    "collapsed": false
   },
   "outputs": [
    {
     "data": {
      "text/plain": [
       "(0, 8)"
      ]
     },
     "execution_count": 28,
     "metadata": {},
     "output_type": "execute_result"
    }
   ],
   "source": [
    "yb.strides"
   ]
  },
  {
   "cell_type": "markdown",
   "metadata": {},
   "source": [
    "More exercies: https://github.com/rougier/numpy-100"
   ]
  },
  {
   "cell_type": "markdown",
   "metadata": {
    "collapsed": true
   },
   "source": [
    "Calculate pairwise distances between major European cities"
   ]
  },
  {
   "cell_type": "code",
   "execution_count": 31,
   "metadata": {
    "collapsed": false
   },
   "outputs": [],
   "source": [
    "import numpy as np\n",
    "coords = np.recfromcsv('cities.csv')"
   ]
  },
  {
   "cell_type": "code",
   "execution_count": 33,
   "metadata": {
    "collapsed": false
   },
   "outputs": [],
   "source": [
    "names = coords['name']\n",
    "coordinates = coords[['x', 'y']]"
   ]
  },
  {
   "cell_type": "code",
   "execution_count": 36,
   "metadata": {
    "collapsed": false
   },
   "outputs": [
    {
     "data": {
      "text/plain": [
       "rec.array([(4.9, 52.3666666667), (23.7166666667, 37.9666666667),\n",
       " (13.3833333333, 52.5166666667), (-0.1275, 51.5072222222),\n",
       " (-3.71666666667, 40.3833333333), (10.75, 59.95), (2.3508, 48.8567),\n",
       " (12.5, 41.9), (21.0166666667, 52.2333333333)], \n",
       "          dtype=[('x', '<f8'), ('y', '<f8')])"
      ]
     },
     "execution_count": 36,
     "metadata": {},
     "output_type": "execute_result"
    }
   ],
   "source": [
    "coordinates"
   ]
  },
  {
   "cell_type": "code",
   "execution_count": 40,
   "metadata": {
    "collapsed": false
   },
   "outputs": [],
   "source": [
    "coords = coordinates.view('f8').reshape(-1, 2\n",
    "                            )"
   ]
  },
  {
   "cell_type": "code",
   "execution_count": 43,
   "metadata": {
    "collapsed": false
   },
   "outputs": [
    {
     "data": {
      "text/plain": [
       "array([[  4.9       ,  52.36666667],\n",
       "       [ 23.71666667,  37.96666667],\n",
       "       [ 13.38333333,  52.51666667],\n",
       "       [ -0.1275    ,  51.50722222],\n",
       "       [ -3.71666667,  40.38333333],\n",
       "       [ 10.75      ,  59.95      ],\n",
       "       [  2.3508    ,  48.8567    ],\n",
       "       [ 12.5       ,  41.9       ],\n",
       "       [ 21.01666667,  52.23333333]])"
      ]
     },
     "execution_count": 43,
     "metadata": {},
     "output_type": "execute_result"
    }
   ],
   "source": [
    "np.array(coords)"
   ]
  },
  {
   "cell_type": "code",
   "execution_count": 44,
   "metadata": {
    "collapsed": false
   },
   "outputs": [
    {
     "data": {
      "text/plain": [
       "array(['Amsterdam', 'Athens', 'Berlin', 'London', 'Madrid', 'Oslo',\n",
       "       'Paris', 'Rome', 'Warsaw'], \n",
       "      dtype='|S9')"
      ]
     },
     "execution_count": 44,
     "metadata": {},
     "output_type": "execute_result"
    }
   ],
   "source": [
    "names"
   ]
  },
  {
   "cell_type": "code",
   "execution_count": 65,
   "metadata": {
    "collapsed": false
   },
   "outputs": [],
   "source": [
    "coords = np.array([\n",
    "                   [ 23.71666667,  37.96666667],\n",
    "                   [ 13.38333333,  52.51666667],\n",
    "                   [ -0.1275    ,  51.50722222],\n",
    "                   [ -3.71666667,  40.38333333],\n",
    "                   [  2.3508    ,  48.8567    ],\n",
    "                   [ 12.5       ,  41.9       ]])\n",
    "\n",
    "names = np.array(['Athens', 'Berlin', 'London', 'Madrid', 'Paris', 'Rome'])\n",
    "\n",
    "R= 6371.009 \n"
   ]
  },
  {
   "cell_type": "code",
   "execution_count": 67,
   "metadata": {
    "collapsed": false
   },
   "outputs": [
    {
     "data": {
      "text/plain": [
       "array([[    0.        ,  1984.38921474,  3049.03920643,  3062.26507472,\n",
       "         2666.5802537 ,  1321.70090479],\n",
       "       [ 1984.38921474,     0.        ,  1506.5255377 ,  2331.46096707,\n",
       "         1292.50664605,  1184.60026382],\n",
       "       [ 3049.03920643,  1506.5255377 ,     0.        ,  1299.71319778,\n",
       "          403.49015659,  1764.30010767],\n",
       "       [ 3062.26507472,  2331.46096707,  1299.71319778,     0.        ,\n",
       "         1158.84321043,  1811.08275581],\n",
       "       [ 2666.5802537 ,  1292.50664605,   403.49015659,  1158.84321043,\n",
       "            0.        ,  1368.20539888],\n",
       "       [ 1321.70090479,  1184.60026382,  1764.30010767,  1811.08275581,\n",
       "         1368.20539888,     0.        ]])"
      ]
     },
     "execution_count": 67,
     "metadata": {},
     "output_type": "execute_result"
    }
   ],
   "source": [
    "\n",
    "rad = coords / 180 * np.pi\n",
    "R * np.sqrt(np.sum((rad[:, None, :] - rad[None, :, :]) ** 2, 2))"
   ]
  },
  {
   "cell_type": "code",
   "execution_count": 76,
   "metadata": {
    "collapsed": false
   },
   "outputs": [
    {
     "data": {
      "text/plain": [
       "array([[    0.        ,  1808.89836354,  2411.23928333,  2379.99096328,\n",
       "         2108.28716907,  1051.63573237],\n",
       "       [ 1808.89836354,     0.        ,   931.47263743,  1880.56443644,\n",
       "          877.33115374,  1182.40538538],\n",
       "       [ 2411.23928333,   931.47263743,     0.        ,  1267.67013577,\n",
       "          343.5151412 ,  1438.19247125],\n",
       "       [ 2379.99096328,  1880.56443644,  1267.67013577,     0.        ,\n",
       "         1057.51822014,  1368.40531072],\n",
       "       [ 2108.28716907,   877.33115374,   343.5151412 ,  1057.51822014,\n",
       "            0.        ,  1107.59808129],\n",
       "       [ 1051.63573237,  1182.40538538,  1438.19247125,  1368.40531072,\n",
       "         1107.59808129,     0.        ]])"
      ]
     },
     "execution_count": 76,
     "metadata": {},
     "output_type": "execute_result"
    }
   ],
   "source": [
    "mean_lat = (rad[:, None, 1] + rad[None, :, 1]) / 2\n",
    "dist = (rad[:, None, :] - rad[None, :, :])\n",
    "corr = np.dstack((mean_lat, np.zeros(mean_lat.shape)))\n",
    "R * np.sqrt(np.sum((dist * np.cos(corr))**2, 2))"
   ]
  },
  {
   "cell_type": "code",
   "execution_count": null,
   "metadata": {
    "collapsed": true
   },
   "outputs": [],
   "source": []
  }
 ],
 "metadata": {
  "kernelspec": {
   "display_name": "Python 2",
   "language": "python",
   "name": "python2"
  },
  "language_info": {
   "codemirror_mode": {
    "name": "ipython",
    "version": 2
   },
   "file_extension": ".py",
   "mimetype": "text/x-python",
   "name": "python",
   "nbconvert_exporter": "python",
   "pygments_lexer": "ipython2",
   "version": "2.7.11"
  }
 },
 "nbformat": 4,
 "nbformat_minor": 0
}
